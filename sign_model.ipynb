{
 "cells": [
  {
   "cell_type": "code",
   "execution_count": 8,
   "metadata": {},
   "outputs": [
    {
     "name": "stdout",
     "output_type": "stream",
     "text": [
      "182000\n",
      "['A', 'B', 'C', 'D', 'E', 'F', 'G', 'H', 'I', 'J', 'K', 'L', 'M', 'N', 'O', 'P', 'Q', 'R', 'S', 'T', 'U', 'V', 'W', 'X', 'Y', 'Z']\n",
      "torch.Size([1, 256, 256])\n"
     ]
    }
   ],
   "source": [
    "from torchvision.datasets import ImageFolder\n",
    "from torchvision.transforms import ToTensor,RandomHorizontalFlip,Compose,Grayscale\n",
    "from torch.utils.data.dataloader import DataLoader\n",
    "\n",
    "root = \"../data/\"\n",
    "\n",
    "train_ds = ImageFolder(root+\"train\", Compose([Grayscale(num_output_channels=1),RandomHorizontalFlip(),ToTensor()]))\n",
    "train_dl = DataLoader(train_ds, 100, shuffle=True, pin_memory=True)\n",
    "\n",
    "val_ds = ImageFolder(root+\"val\", ToTensor())\n",
    "val_dl = DataLoader(val_ds, 70, pin_memory=True)\n",
    "\n",
    "print(len(train_ds))\n",
    "img_cls = train_ds.classes\n",
    "\n",
    "CLS_SIZE = len(img_cls)\n",
    "print(img_cls)\n",
    "print(train_ds[0][0].shape)"
   ]
  },
  {
   "cell_type": "code",
   "execution_count": 9,
   "metadata": {},
   "outputs": [
    {
     "name": "stdout",
     "output_type": "stream",
     "text": [
      "cpu\n"
     ]
    }
   ],
   "source": [
    "import torch\n",
    "\n",
    "device = torch.device(\"cuda\" if torch.cuda.is_available() else \"cpu\")\n",
    "print(device)"
   ]
  },
  {
   "cell_type": "code",
   "execution_count": 10,
   "metadata": {},
   "outputs": [],
   "source": [
    "import torch.nn as nn\n",
    "\n",
    "class ResNet12(nn.Module):\n",
    "    def __init__(self):\n",
    "        super().__init__()\n",
    "        \n",
    "        self.conv1 = nn.Conv2d(1,15,kernel_size=3,stride=2,padding=1)\n",
    "        self.conv2 = nn.Conv2d(15,30,kernel_size=3,stride=1,padding=1)\n",
    "        self.conv3 = nn.Conv2d(30,60,kernel_size=3,stride=2,padding=1)\n",
    "        self.conv4 = nn.Conv2d(60,120,kernel_size=3,stride=1,padding=1)\n",
    "        \n",
    "        self.conv5 = nn.Conv2d(120,200,kernel_size=3,stride=2,padding=1)\n",
    "        self.conv6 = nn.Conv2d(200,200,kernel_size=3,stride=1,padding=1)\n",
    "        self.conv7 = nn.Conv2d(200,200,kernel_size=3,stride=2,padding=1)\n",
    "\n",
    "        self.conv8 = nn.Conv2d(200,360,kernel_size=3,stride=1,padding=1)\n",
    "        self.conv9 = nn.Conv2d(360,360,kernel_size=3,stride=2,padding=1)\n",
    "        self.conv10 = nn.Conv2d(360,360,kernel_size=3,stride=1,padding=1)\n",
    "        \n",
    "        self.pool = nn.MaxPool2d(2,2)\n",
    "        self.avgpool = nn.AvgPool2d(2,2)\n",
    "        self.flat = nn.Flatten()\n",
    "        \n",
    "        self.linear = nn.Linear(360,CLS_SIZE)\n",
    "    \n",
    "\n",
    "    def forward(self, data):\n",
    "        # data 1 256 256\n",
    "\n",
    "        out = torch.relu(self.conv1(data))#15 128 128\n",
    "        out = torch.relu(self.conv2(out))#30 128 128\n",
    "        \n",
    "        out = torch.relu(self.conv3(out))#60 64 64\n",
    "\n",
    "        out = torch.relu(self.conv4(out))#120 128 128\n",
    "        \n",
    "        out = torch.relu(self.conv5(out))#200 64 64\n",
    "        out = torch.relu(self.conv6(out))#200 64 64\n",
    "        out = torch.relu(self.conv7(out))#200 64 64\n",
    "        \n",
    "        out = torch.relu(self.conv8(out))#360 32 32\n",
    "        out = torch.relu(self.conv9(out))#360 32 32\n",
    "        out = torch.relu(self.conv10(out))#360 32 32\n",
    "        \n",
    "        \n",
    "        out = self.avgpool(out)#360 16 16\n",
    "        out = self.avgpool(out)#360 8 8\n",
    "        out = self.avgpool(out)#360 4 4\n",
    "        out = self.avgpool(out)#360 2 2\n",
    "        out = self.avgpool(out)#360 1 1\n",
    "        \n",
    "        out = self.flat(out)#360\n",
    "        out = self.linear(out)#10\n",
    "        \n",
    "        out = torch.softmax(out,dim=-1)\n",
    "        \n",
    "        return out\n"
   ]
  },
  {
   "cell_type": "code",
   "execution_count": 11,
   "metadata": {},
   "outputs": [],
   "source": [
    "sign_model = ResNet12().to(device)\n",
    "loss_fn = nn.BCELoss()\n",
    "opt = torch.optim.Adam(sign_model.parameters(),lr=0.001)"
   ]
  },
  {
   "cell_type": "code",
   "execution_count": 12,
   "metadata": {},
   "outputs": [
    {
     "name": "stdout",
     "output_type": "stream",
     "text": [
      "Epoch:  1\n"
     ]
    },
    {
     "ename": "NameError",
     "evalue": "name 'BATCH_SIZE' is not defined",
     "output_type": "error",
     "traceback": [
      "\u001b[0;31m---------------------------------------------------------------------------\u001b[0m",
      "\u001b[0;31mNameError\u001b[0m                                 Traceback (most recent call last)",
      "\u001b[0;32m/tmp/ipykernel_224021/269958101.py\u001b[0m in \u001b[0;36m<module>\u001b[0;34m\u001b[0m\n\u001b[1;32m     41\u001b[0m             \u001b[0;32mbreak\u001b[0m\u001b[0;34m\u001b[0m\u001b[0;34m\u001b[0m\u001b[0m\n\u001b[1;32m     42\u001b[0m \u001b[0;34m\u001b[0m\u001b[0m\n\u001b[0;32m---> 43\u001b[0;31m \u001b[0mfit\u001b[0m\u001b[0;34m(\u001b[0m\u001b[0;36m1\u001b[0m\u001b[0;34m)\u001b[0m\u001b[0;34m\u001b[0m\u001b[0;34m\u001b[0m\u001b[0m\n\u001b[0m",
      "\u001b[0;32m/tmp/ipykernel_224021/269958101.py\u001b[0m in \u001b[0;36mfit\u001b[0;34m(epochs)\u001b[0m\n\u001b[1;32m      9\u001b[0m             \u001b[0mpreds\u001b[0m \u001b[0;34m=\u001b[0m \u001b[0msign_model\u001b[0m\u001b[0;34m(\u001b[0m\u001b[0mimages\u001b[0m\u001b[0;34m.\u001b[0m\u001b[0mto\u001b[0m\u001b[0;34m(\u001b[0m\u001b[0mdevice\u001b[0m\u001b[0;34m)\u001b[0m\u001b[0;34m)\u001b[0m\u001b[0;34m\u001b[0m\u001b[0;34m\u001b[0m\u001b[0m\n\u001b[1;32m     10\u001b[0m \u001b[0;34m\u001b[0m\u001b[0m\n\u001b[0;32m---> 11\u001b[0;31m             \u001b[0mtargets\u001b[0m \u001b[0;34m=\u001b[0m \u001b[0mtorch\u001b[0m\u001b[0;34m.\u001b[0m\u001b[0mzeros\u001b[0m\u001b[0;34m(\u001b[0m\u001b[0mBATCH_SIZE\u001b[0m\u001b[0;34m,\u001b[0m\u001b[0mCLS_SIZE\u001b[0m\u001b[0;34m,\u001b[0m \u001b[0mdtype\u001b[0m\u001b[0;34m=\u001b[0m\u001b[0mtorch\u001b[0m\u001b[0;34m.\u001b[0m\u001b[0mfloat32\u001b[0m\u001b[0;34m)\u001b[0m\u001b[0;34m\u001b[0m\u001b[0;34m\u001b[0m\u001b[0m\n\u001b[0m\u001b[1;32m     12\u001b[0m \u001b[0;34m\u001b[0m\u001b[0m\n\u001b[1;32m     13\u001b[0m             \u001b[0;32mfor\u001b[0m \u001b[0mi\u001b[0m \u001b[0;32min\u001b[0m \u001b[0mrange\u001b[0m\u001b[0;34m(\u001b[0m\u001b[0mBATCH_SIZE\u001b[0m\u001b[0;34m)\u001b[0m\u001b[0;34m:\u001b[0m\u001b[0;34m\u001b[0m\u001b[0;34m\u001b[0m\u001b[0m\n",
      "\u001b[0;31mNameError\u001b[0m: name 'BATCH_SIZE' is not defined"
     ]
    }
   ],
   "source": [
    "import numpy as np\n",
    "\n",
    "def fit(epochs):\n",
    "    for epoch in range(epochs):\n",
    "        print(\"Epoch: \",epoch+1)\n",
    "        x = 0\n",
    "        for images,labels in train_dl:\n",
    "            x += 1\n",
    "            preds = sign_model(images.to(device))\n",
    "\n",
    "            targets = torch.zeros(BATCH_SIZE,CLS_SIZE, dtype=torch.float32)\n",
    "            \n",
    "            for i in range(BATCH_SIZE):\n",
    "                targets[i,label_batch[i]]=1\n",
    "\n",
    "            targets = torch.tensor(targets)\n",
    "\n",
    "            loss = loss_fn(preds.to(device), targets.to(device))\n",
    "            loss.backward()\n",
    "            \n",
    "            opt.step()\n",
    "            opt.zero_grad()\n",
    "\n",
    "            print(x,\"/\",len(train_dl))\n",
    "\n",
    "        print(\"Loss: \",round(loss.item(),6))\n",
    "\n",
    "        with torch.no_grad():\n",
    "            correct = 0\n",
    "            for images,labels in test_dl:\n",
    "                preds = sign_model(images.to(device))\n",
    "\n",
    "                for i in range(len(preds)):\n",
    "                    if (preds[i].max()==preds[i][labels[i].item()]):\n",
    "                        correct += 1\n",
    "            \n",
    "            acc = correct/len(test_ds)\n",
    "            print(\"Accuracy: \",round(acc*100,3))\n",
    "            print(\"\")\n",
    "        if acc>0.9:\n",
    "            break\n",
    "\n",
    "fit(1)"
   ]
  },
  {
   "cell_type": "code",
   "execution_count": null,
   "metadata": {},
   "outputs": [],
   "source": [
    "# model = ResNet12()\n",
    "# try:\n",
    "#     if torch.cuda.is_available():\n",
    "#         model.load_state_dict(torch.load(\"./saved_models/Cifar10ResNet12.pth\"))\n",
    "#         print(\"Model Loaded(GPU)\")\n",
    "#     else:\n",
    "#         model.load_state_dict(torch.load(\"./saved_models/Cifar10ResNet12.pth\",map_location=torch.device(\"cpu\")))\n",
    "#         print(\"Model Loaded(CPU)\")\n",
    "# except Exception as e:\n",
    "#     print(e)\n",
    "#     print(\"Error Occured in loading saved weights, training for new weights\")\n",
    "# fit(20)"
   ]
  },
  {
   "cell_type": "code",
   "execution_count": null,
   "metadata": {},
   "outputs": [],
   "source": [
    "# from PIL import Image\n",
    "# import matplotlib.pyplot as plt\n",
    "\n",
    "# def predict(path,model):\n",
    "#     img = Image.open(path)\n",
    "    \n",
    "#     if img.size != (32,32):\n",
    "#         img = img.resize((32,32))\n",
    "    \n",
    "#     img_arr = np.asarray(img)\n",
    "#     plt.imshow(img_arr)\n",
    "    \n",
    "#     img_arr = img_arr/255\n",
    "#     img_tsr = torch.Tensor([img_arr])\n",
    "#     img_tsr = img_tsr.permute(0,3,1,2)\n",
    "    \n",
    "#     for i in range(3):\n",
    "#         img_tsr[0][i] = (img_tsr[0][i]-mean[i])/dev[i] \n",
    "    \n",
    "#     pred = model(img_tsr).detach()\n",
    "#     pred = np.array(pred[0])\n",
    "#     pred_index = np.where(pred==max(pred))[0][0]\n",
    "    \n",
    "#     print(\"Prediction: \",img_cls[pred_index])"
   ]
  }
 ],
 "metadata": {
  "interpreter": {
   "hash": "916dbcbb3f70747c44a77c7bcd40155683ae19c65e1c03b4aa3499c5328201f1"
  },
  "kernelspec": {
   "display_name": "Python 3.8.10 64-bit",
   "language": "python",
   "name": "python3"
  },
  "language_info": {
   "codemirror_mode": {
    "name": "ipython",
    "version": 3
   },
   "file_extension": ".py",
   "mimetype": "text/x-python",
   "name": "python",
   "nbconvert_exporter": "python",
   "pygments_lexer": "ipython3",
   "version": "3.8.10"
  },
  "orig_nbformat": 4
 },
 "nbformat": 4,
 "nbformat_minor": 2
}
